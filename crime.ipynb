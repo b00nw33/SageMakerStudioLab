{
 "cells": [
  {
   "cell_type": "code",
   "execution_count": 2,
   "id": "a482603e-f810-49be-85d8-71f2b89334a2",
   "metadata": {
    "tags": []
   },
   "outputs": [
    {
     "name": "stdout",
     "output_type": "stream",
     "text": [
      "<class 'pandas.core.frame.DataFrame'>\n",
      "RangeIndex: 209201 entries, 0 to 209200\n",
      "Data columns (total 11 columns):\n",
      " #   Column               Non-Null Count   Dtype  \n",
      "---  ------               --------------   -----  \n",
      " 0   INCIDENT_NUMBER      209201 non-null  object \n",
      " 1   OFFENSE_CODE         209201 non-null  int64  \n",
      " 2   OFFENSE_CODE_GROUP   209201 non-null  object \n",
      " 3   OFFENSE_DESCRIPTION  209201 non-null  object \n",
      " 4   DISTRICT             207806 non-null  object \n",
      " 5   REPORTING_AREA       209200 non-null  object \n",
      " 6   SHOOTING             703 non-null     object \n",
      " 7   YEAR                 209200 non-null  float64\n",
      " 8   MONTH                209200 non-null  float64\n",
      " 9   DAY_OF_WEEK          209200 non-null  object \n",
      " 10  HOUR                 209200 non-null  float64\n",
      "dtypes: float64(3), int64(1), object(7)\n",
      "memory usage: 17.6+ MB\n"
     ]
    }
   ],
   "source": [
    "import pandas as pd\n",
    "\n",
    "df = pd.read_csv('crime.csv')\n",
    "df.info()"
   ]
  },
  {
   "cell_type": "code",
   "execution_count": 3,
   "id": "5115368b-bd70-4621-ba72-707de26c4286",
   "metadata": {
    "tags": []
   },
   "outputs": [
    {
     "data": {
      "text/html": [
       "<div>\n",
       "<style scoped>\n",
       "    .dataframe tbody tr th:only-of-type {\n",
       "        vertical-align: middle;\n",
       "    }\n",
       "\n",
       "    .dataframe tbody tr th {\n",
       "        vertical-align: top;\n",
       "    }\n",
       "\n",
       "    .dataframe thead th {\n",
       "        text-align: right;\n",
       "    }\n",
       "</style>\n",
       "<table border=\"1\" class=\"dataframe\">\n",
       "  <thead>\n",
       "    <tr style=\"text-align: right;\">\n",
       "      <th></th>\n",
       "      <th>OFFENSE_CODE</th>\n",
       "      <th>YEAR</th>\n",
       "      <th>MONTH</th>\n",
       "      <th>HOUR</th>\n",
       "    </tr>\n",
       "  </thead>\n",
       "  <tbody>\n",
       "    <tr>\n",
       "      <th>count</th>\n",
       "      <td>209201.000000</td>\n",
       "      <td>209200.000000</td>\n",
       "      <td>209200.000000</td>\n",
       "      <td>209200.00000</td>\n",
       "    </tr>\n",
       "    <tr>\n",
       "      <th>mean</th>\n",
       "      <td>2355.328445</td>\n",
       "      <td>2017.191941</td>\n",
       "      <td>6.680554</td>\n",
       "      <td>13.11337</td>\n",
       "    </tr>\n",
       "    <tr>\n",
       "      <th>std</th>\n",
       "      <td>1178.709573</td>\n",
       "      <td>0.694953</td>\n",
       "      <td>3.330334</td>\n",
       "      <td>6.27282</td>\n",
       "    </tr>\n",
       "    <tr>\n",
       "      <th>min</th>\n",
       "      <td>111.000000</td>\n",
       "      <td>2015.000000</td>\n",
       "      <td>1.000000</td>\n",
       "      <td>0.00000</td>\n",
       "    </tr>\n",
       "    <tr>\n",
       "      <th>25%</th>\n",
       "      <td>1102.000000</td>\n",
       "      <td>2017.000000</td>\n",
       "      <td>4.000000</td>\n",
       "      <td>9.00000</td>\n",
       "    </tr>\n",
       "    <tr>\n",
       "      <th>50%</th>\n",
       "      <td>3006.000000</td>\n",
       "      <td>2017.000000</td>\n",
       "      <td>7.000000</td>\n",
       "      <td>14.00000</td>\n",
       "    </tr>\n",
       "    <tr>\n",
       "      <th>75%</th>\n",
       "      <td>3202.000000</td>\n",
       "      <td>2018.000000</td>\n",
       "      <td>9.000000</td>\n",
       "      <td>18.00000</td>\n",
       "    </tr>\n",
       "    <tr>\n",
       "      <th>max</th>\n",
       "      <td>3831.000000</td>\n",
       "      <td>2018.000000</td>\n",
       "      <td>12.000000</td>\n",
       "      <td>23.00000</td>\n",
       "    </tr>\n",
       "  </tbody>\n",
       "</table>\n",
       "</div>"
      ],
      "text/plain": [
       "        OFFENSE_CODE           YEAR          MONTH          HOUR\n",
       "count  209201.000000  209200.000000  209200.000000  209200.00000\n",
       "mean     2355.328445    2017.191941       6.680554      13.11337\n",
       "std      1178.709573       0.694953       3.330334       6.27282\n",
       "min       111.000000    2015.000000       1.000000       0.00000\n",
       "25%      1102.000000    2017.000000       4.000000       9.00000\n",
       "50%      3006.000000    2017.000000       7.000000      14.00000\n",
       "75%      3202.000000    2018.000000       9.000000      18.00000\n",
       "max      3831.000000    2018.000000      12.000000      23.00000"
      ]
     },
     "execution_count": 3,
     "metadata": {},
     "output_type": "execute_result"
    }
   ],
   "source": [
    "df.describe()"
   ]
  },
  {
   "cell_type": "code",
   "execution_count": 8,
   "id": "36cfccb7-23b6-4f1c-8003-46ab924c220b",
   "metadata": {
    "tags": []
   },
   "outputs": [
    {
     "data": {
      "text/plain": [
       "OFFENSE_DESCRIPTION\n",
       "SICK/INJURED/MEDICAL - PERSON                13309\n",
       "INVESTIGATE PERSON                           13275\n",
       "M/V - LEAVING SCENE - PROPERTY DAMAGE        10745\n",
       "ASSAULT SIMPLE - BATTERY                      9823\n",
       "VANDALISM                                     9540\n",
       "                                             ...  \n",
       "PRISONER ATTEMPT TO RESCUE                       1\n",
       "MANSLAUGHTER - NON-VEHICLE - NEGLIGENCE          1\n",
       "HUMAN TRAFFICKING - INVOLUNTARY SERVITUDE        1\n",
       "DRUGS - GLUE INHALATION                          1\n",
       "LARCENY THEFT                                    1\n",
       "Name: count, Length: 190, dtype: int64"
      ]
     },
     "execution_count": 8,
     "metadata": {},
     "output_type": "execute_result"
    }
   ],
   "source": [
    "df.OFFENSE_DESCRIPTION.value_counts()"
   ]
  },
  {
   "cell_type": "code",
   "execution_count": 9,
   "id": "b03d5b72-e665-4833-98da-a7c3351ffef3",
   "metadata": {
    "tags": []
   },
   "outputs": [
    {
     "data": {
      "text/plain": [
       "OFFENSE_CODE_GROUP\n",
       "Motor Vehicle Accident Response              24928\n",
       "Larceny                                      16576\n",
       "Medical Assistance                           16440\n",
       "Investigate Person                           13274\n",
       "Other                                        11329\n",
       "                                             ...  \n",
       "Gambling                                         6\n",
       "Manslaughter                                     5\n",
       "Biological Threat                                2\n",
       "INVESTIGATE PERSON                               1\n",
       "HUMAN TRAFFICKING - INVOLUNTARY SERVITUDE        1\n",
       "Name: count, Length: 66, dtype: int64"
      ]
     },
     "execution_count": 9,
     "metadata": {},
     "output_type": "execute_result"
    }
   ],
   "source": [
    "df.OFFENSE_CODE_GROUP.value_counts()"
   ]
  },
  {
   "cell_type": "code",
   "execution_count": null,
   "id": "adb030d1-a5c5-46c1-9fcb-a98975dc5efd",
   "metadata": {},
   "outputs": [],
   "source": []
  },
  {
   "cell_type": "code",
   "execution_count": null,
   "id": "ddc59dd4-e3c2-42c9-bf50-a454befe0797",
   "metadata": {},
   "outputs": [],
   "source": []
  }
 ],
 "metadata": {
  "kernelspec": {
   "display_name": "sagemaker-distribution:Python",
   "language": "python",
   "name": "conda-env-sagemaker-distribution-py"
  },
  "language_info": {
   "codemirror_mode": {
    "name": "ipython",
    "version": 3
   },
   "file_extension": ".py",
   "mimetype": "text/x-python",
   "name": "python",
   "nbconvert_exporter": "python",
   "pygments_lexer": "ipython3",
   "version": "3.8.17"
  }
 },
 "nbformat": 4,
 "nbformat_minor": 5
}
