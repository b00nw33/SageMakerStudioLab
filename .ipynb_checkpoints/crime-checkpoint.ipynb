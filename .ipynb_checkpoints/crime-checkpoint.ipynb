{
 "cells": [
  {
   "cell_type": "code",
   "execution_count": 2,
   "id": "a482603e-f810-49be-85d8-71f2b89334a2",
   "metadata": {
    "tags": []
   },
   "outputs": [
    {
     "name": "stdout",
     "output_type": "stream",
     "text": [
      "<class 'pandas.core.frame.DataFrame'>\n",
      "RangeIndex: 209201 entries, 0 to 209200\n",
      "Data columns (total 11 columns):\n",
      " #   Column               Non-Null Count   Dtype  \n",
      "---  ------               --------------   -----  \n",
      " 0   INCIDENT_NUMBER      209201 non-null  object \n",
      " 1   OFFENSE_CODE         209201 non-null  int64  \n",
      " 2   OFFENSE_CODE_GROUP   209201 non-null  object \n",
      " 3   OFFENSE_DESCRIPTION  209201 non-null  object \n",
      " 4   DISTRICT             207806 non-null  object \n",
      " 5   REPORTING_AREA       209200 non-null  object \n",
      " 6   SHOOTING             703 non-null     object \n",
      " 7   YEAR                 209200 non-null  float64\n",
      " 8   MONTH                209200 non-null  float64\n",
      " 9   DAY_OF_WEEK          209200 non-null  object \n",
      " 10  HOUR                 209200 non-null  float64\n",
      "dtypes: float64(3), int64(1), object(7)\n",
      "memory usage: 17.6+ MB\n"
     ]
    }
   ],
   "source": [
    "import pandas as pd\n",
    "\n",
    "df = pd.read_csv('crime.csv')\n",
    "df.info()"
   ]
  }
 ],
 "metadata": {
  "kernelspec": {
   "display_name": "sagemaker-distribution:Python",
   "language": "python",
   "name": "conda-env-sagemaker-distribution-py"
  },
  "language_info": {
   "codemirror_mode": {
    "name": "ipython",
    "version": 3
   },
   "file_extension": ".py",
   "mimetype": "text/x-python",
   "name": "python",
   "nbconvert_exporter": "python",
   "pygments_lexer": "ipython3",
   "version": "3.8.17"
  }
 },
 "nbformat": 4,
 "nbformat_minor": 5
}
